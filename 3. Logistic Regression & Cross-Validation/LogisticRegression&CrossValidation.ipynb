{
 "cells": [
  {
   "cell_type": "code",
   "execution_count": 67,
   "id": "1dde6cd5",
   "metadata": {},
   "outputs": [],
   "source": [
    "import pandas as pd\n",
    "import numpy as np\n",
    "import matplotlib.pyplot as plt\n",
    "import seaborn as sns\n",
    "import os\n",
    "import sys\n",
    "import scipy\n",
    "import sklearn\n",
    "from sklearn.preprocessing import OneHotEncoder, StandardScaler\n",
    "from sklearn.model_selection import StratifiedKFold\n",
    "from sklearn.linear_model import LogisticRegression\n",
    "from sklearn.metrics import confusion_matrix, classification_report, accuracy_score, roc_auc_score, roc_curve\n",
    "\n",
    "# Quiet setting warnings\n",
    "pd.options.mode.chained_assignment = None\n",
    "\n",
    "#StratifiedKFold\n",
    "#n_folds\n",
    "#Every fold needs to have unchanged data go in - fit scalar on training; apply to training and test\n",
    "#fit -> transform\n",
    "#How does fold size effect ROC curve?\n",
    "#MinMax - need uniform distribution"
   ]
  },
  {
   "cell_type": "markdown",
   "id": "eb4104e6",
   "metadata": {},
   "source": [
    "# Background"
   ]
  },
  {
   "cell_type": "code",
   "execution_count": 184,
   "id": "3b63813e",
   "metadata": {},
   "outputs": [],
   "source": [
    "# Set wkdir\n",
    "WORK_DIR = os.getcwd()"
   ]
  },
  {
   "cell_type": "code",
   "execution_count": 191,
   "id": "b8e9d693",
   "metadata": {},
   "outputs": [
    {
     "name": "stdout",
     "output_type": "stream",
     "text": [
      "(50, 7)\n"
     ]
    },
    {
     "data": {
      "text/html": [
       "<div>\n",
       "<style scoped>\n",
       "    .dataframe tbody tr th:only-of-type {\n",
       "        vertical-align: middle;\n",
       "    }\n",
       "\n",
       "    .dataframe tbody tr th {\n",
       "        vertical-align: top;\n",
       "    }\n",
       "\n",
       "    .dataframe thead th {\n",
       "        text-align: right;\n",
       "    }\n",
       "</style>\n",
       "<table border=\"1\" class=\"dataframe\">\n",
       "  <thead>\n",
       "    <tr style=\"text-align: right;\">\n",
       "      <th></th>\n",
       "      <th>Age</th>\n",
       "      <th>Sex</th>\n",
       "      <th>Racial group</th>\n",
       "      <th>Ejection fraction</th>\n",
       "      <th>Heart rate (bpm)</th>\n",
       "      <th>Systolic blood pressure</th>\n",
       "      <th>Pathologic?</th>\n",
       "    </tr>\n",
       "  </thead>\n",
       "  <tbody>\n",
       "    <tr>\n",
       "      <th>0</th>\n",
       "      <td>59.053851</td>\n",
       "      <td>Male</td>\n",
       "      <td>Asian</td>\n",
       "      <td>0.625929</td>\n",
       "      <td>71.025200</td>\n",
       "      <td>98.960236</td>\n",
       "      <td>0</td>\n",
       "    </tr>\n",
       "    <tr>\n",
       "      <th>1</th>\n",
       "      <td>56.291312</td>\n",
       "      <td>Male</td>\n",
       "      <td>White</td>\n",
       "      <td>0.632001</td>\n",
       "      <td>51.666039</td>\n",
       "      <td>112.938934</td>\n",
       "      <td>0</td>\n",
       "    </tr>\n",
       "    <tr>\n",
       "      <th>2</th>\n",
       "      <td>66.216488</td>\n",
       "      <td>Male</td>\n",
       "      <td>White</td>\n",
       "      <td>0.601147</td>\n",
       "      <td>105.635574</td>\n",
       "      <td>98.363388</td>\n",
       "      <td>1</td>\n",
       "    </tr>\n",
       "    <tr>\n",
       "      <th>3</th>\n",
       "      <td>45.684119</td>\n",
       "      <td>Female</td>\n",
       "      <td>Black or African American</td>\n",
       "      <td>0.546039</td>\n",
       "      <td>96.767563</td>\n",
       "      <td>104.544754</td>\n",
       "      <td>0</td>\n",
       "    </tr>\n",
       "    <tr>\n",
       "      <th>4</th>\n",
       "      <td>69.492794</td>\n",
       "      <td>Female</td>\n",
       "      <td>White</td>\n",
       "      <td>0.677071</td>\n",
       "      <td>86.660133</td>\n",
       "      <td>129.907806</td>\n",
       "      <td>1</td>\n",
       "    </tr>\n",
       "  </tbody>\n",
       "</table>\n",
       "</div>"
      ],
      "text/plain": [
       "         Age     Sex               Racial group  Ejection fraction  \\\n",
       "0  59.053851    Male                      Asian           0.625929   \n",
       "1  56.291312    Male                      White           0.632001   \n",
       "2  66.216488    Male                      White           0.601147   \n",
       "3  45.684119  Female  Black or African American           0.546039   \n",
       "4  69.492794  Female                      White           0.677071   \n",
       "\n",
       "   Heart rate (bpm)  Systolic blood pressure  Pathologic?  \n",
       "0         71.025200                98.960236            0  \n",
       "1         51.666039               112.938934            0  \n",
       "2        105.635574                98.363388            1  \n",
       "3         96.767563               104.544754            0  \n",
       "4         86.660133               129.907806            1  "
      ]
     },
     "execution_count": 191,
     "metadata": {},
     "output_type": "execute_result"
    }
   ],
   "source": [
    "# 50 sample data set\n",
    "data50_df = pd.read_excel(f'{WORK_DIR}/CardiacHypertrophyData_50Samples.xlsx')\n",
    "print(data50_df.shape)\n",
    "data50_df.head(5)"
   ]
  },
  {
   "cell_type": "code",
   "execution_count": 192,
   "id": "9946d316",
   "metadata": {},
   "outputs": [
    {
     "name": "stdout",
     "output_type": "stream",
     "text": [
      "(200, 7)\n"
     ]
    },
    {
     "data": {
      "text/html": [
       "<div>\n",
       "<style scoped>\n",
       "    .dataframe tbody tr th:only-of-type {\n",
       "        vertical-align: middle;\n",
       "    }\n",
       "\n",
       "    .dataframe tbody tr th {\n",
       "        vertical-align: top;\n",
       "    }\n",
       "\n",
       "    .dataframe thead th {\n",
       "        text-align: right;\n",
       "    }\n",
       "</style>\n",
       "<table border=\"1\" class=\"dataframe\">\n",
       "  <thead>\n",
       "    <tr style=\"text-align: right;\">\n",
       "      <th></th>\n",
       "      <th>Age</th>\n",
       "      <th>Sex</th>\n",
       "      <th>Racial group</th>\n",
       "      <th>Ejection fraction</th>\n",
       "      <th>Heart rate (bpm)</th>\n",
       "      <th>Systolic blood pressure</th>\n",
       "      <th>Pathologic?</th>\n",
       "    </tr>\n",
       "  </thead>\n",
       "  <tbody>\n",
       "    <tr>\n",
       "      <th>0</th>\n",
       "      <td>58.706430</td>\n",
       "      <td>Male</td>\n",
       "      <td>White</td>\n",
       "      <td>0.581767</td>\n",
       "      <td>109.255325</td>\n",
       "      <td>120.983421</td>\n",
       "      <td>0</td>\n",
       "    </tr>\n",
       "    <tr>\n",
       "      <th>1</th>\n",
       "      <td>59.108509</td>\n",
       "      <td>Female</td>\n",
       "      <td>Hispanic or Latino</td>\n",
       "      <td>0.706900</td>\n",
       "      <td>104.015976</td>\n",
       "      <td>111.671471</td>\n",
       "      <td>0</td>\n",
       "    </tr>\n",
       "    <tr>\n",
       "      <th>2</th>\n",
       "      <td>48.160970</td>\n",
       "      <td>Male</td>\n",
       "      <td>White</td>\n",
       "      <td>0.644444</td>\n",
       "      <td>101.856407</td>\n",
       "      <td>95.749603</td>\n",
       "      <td>0</td>\n",
       "    </tr>\n",
       "    <tr>\n",
       "      <th>3</th>\n",
       "      <td>57.649055</td>\n",
       "      <td>Female</td>\n",
       "      <td>Black or African American</td>\n",
       "      <td>0.572398</td>\n",
       "      <td>69.098885</td>\n",
       "      <td>103.728004</td>\n",
       "      <td>0</td>\n",
       "    </tr>\n",
       "    <tr>\n",
       "      <th>4</th>\n",
       "      <td>58.849777</td>\n",
       "      <td>Male</td>\n",
       "      <td>White</td>\n",
       "      <td>0.616101</td>\n",
       "      <td>72.875412</td>\n",
       "      <td>104.763771</td>\n",
       "      <td>0</td>\n",
       "    </tr>\n",
       "  </tbody>\n",
       "</table>\n",
       "</div>"
      ],
      "text/plain": [
       "         Age     Sex               Racial group  Ejection fraction  \\\n",
       "0  58.706430    Male                      White           0.581767   \n",
       "1  59.108509  Female         Hispanic or Latino           0.706900   \n",
       "2  48.160970    Male                      White           0.644444   \n",
       "3  57.649055  Female  Black or African American           0.572398   \n",
       "4  58.849777    Male                      White           0.616101   \n",
       "\n",
       "   Heart rate (bpm)  Systolic blood pressure  Pathologic?  \n",
       "0        109.255325               120.983421            0  \n",
       "1        104.015976               111.671471            0  \n",
       "2        101.856407                95.749603            0  \n",
       "3         69.098885               103.728004            0  \n",
       "4         72.875412               104.763771            0  "
      ]
     },
     "execution_count": 192,
     "metadata": {},
     "output_type": "execute_result"
    }
   ],
   "source": [
    "# 200 sample data set\n",
    "data200_df = pd.read_excel(f'{WORK_DIR}/CardiacHypertrophyData_200Samples.xlsx')\n",
    "print(data200_df.shape)\n",
    "data200_df.head(5)"
   ]
  },
  {
   "cell_type": "markdown",
   "id": "7706011d",
   "metadata": {},
   "source": [
    "# Generic Functions"
   ]
  },
  {
   "cell_type": "code",
   "execution_count": 182,
   "id": "2646eaf1",
   "metadata": {},
   "outputs": [],
   "source": [
    "def X_y_split(df, target, to_numpy: bool):\n",
    "    '''\n",
    "    Function to split df into features (X) and target (y)\n",
    "    to_numpy boolean flag can be used to convert X and y outputs to numpy arrays\n",
    "    '''\n",
    "    X = df.loc[:, df.columns != target]\n",
    "    y = df.loc[:, target]\n",
    "    if to_numpy:\n",
    "        return X.to_numpy(), y.to_numpy()\n",
    "    else:\n",
    "        return X, y\n",
    "    "
   ]
  },
  {
   "cell_type": "markdown",
   "id": "4d623311",
   "metadata": {},
   "source": [
    "# EDA"
   ]
  },
  {
   "cell_type": "markdown",
   "id": "3e3551b7",
   "metadata": {},
   "source": [
    "## Missing Data\n",
    "No missing data in this data set"
   ]
  },
  {
   "cell_type": "code",
   "execution_count": 180,
   "id": "b8ee409f",
   "metadata": {},
   "outputs": [
    {
     "name": "stdout",
     "output_type": "stream",
     "text": [
      "50 Sample Missing Data:\n",
      "Age                        0\n",
      "Sex                        0\n",
      "Racial group               0\n",
      "Ejection fraction          0\n",
      "Heart rate (bpm)           0\n",
      "Systolic blood pressure    0\n",
      "Pathologic?                0\n",
      "dtype: int64\n",
      "\n",
      "\n",
      "200 Sample Missing Data:\n",
      "Age                        0\n",
      "Sex                        0\n",
      "Racial group               0\n",
      "Ejection fraction          0\n",
      "Heart rate (bpm)           0\n",
      "Systolic blood pressure    0\n",
      "Pathologic?                0\n",
      "dtype: int64\n"
     ]
    }
   ],
   "source": [
    "# View missing data for 50 sample set\n",
    "print('50 Sample Missing Data:')\n",
    "print(data50_df.isnull().sum())\n",
    "print('\\n')\n",
    "\n",
    "# View missing data for 200 sample set\n",
    "print('200 Sample Missing Data:')\n",
    "print(data200_df.isnull().sum())"
   ]
  },
  {
   "cell_type": "markdown",
   "id": "8da0a0ee",
   "metadata": {},
   "source": [
    "## Visualizing Target & Feature Balance/Distributions"
   ]
  },
  {
   "cell_type": "code",
   "execution_count": 4,
   "id": "3128197f",
   "metadata": {},
   "outputs": [],
   "source": [
    "def num_feature_dist_plot(df, n_col, bins, fig_width, fig_height, hspace, wspace):\n",
    "    '''\n",
    "    Function to plot the distribution of each numeric feature in a data frame\n",
    "    '''\n",
    "\n",
    "    # Extract features to plot - only numeric features will work here\n",
    "    numeric_features = list(df.select_dtypes(include=[np.number]).columns)\n",
    "    \n",
    "    # Set figure space\n",
    "    plt.style.use('seaborn')\n",
    "    n_row = int(np.ceil(len(numeric_features)/n_col))\n",
    "    fig, axs = plt.subplots(n_row, n_col, figsize=(fig_width, fig_height), \n",
    "                            gridspec_kw={\"hspace\": hspace, \"wspace\": wspace})\n",
    "    plots = []\n",
    "    for ax in axs:\n",
    "        try:\n",
    "            for plot in ax:\n",
    "                plots.append(plot)\n",
    "        except:\n",
    "            plots.append(ax)\n",
    "\n",
    "    # Plot distributions and test for normality\n",
    "    for i, feature in enumerate(numeric_features):\n",
    "        \n",
    "        # Plot\n",
    "        sns.histplot(data=df, x=feature, ax=plots[i], color='tab:blue', bins=bins)\n",
    "        plots[i].set_title(feature, fontsize=12)\n",
    "        plots[i].set_xlabel('')\n",
    "        \n",
    "    plt.show()\n",
    "        \n",
    "\n",
    "def cat_feature_count_plot(df, n_col, fig_width, fig_height, hspace, wspace):\n",
    "    '''\n",
    "    Function to plot the distribution of each categorical feature in a data frame\n",
    "    '''\n",
    "\n",
    "    # Extract features to plot - only non-numeric features will work here\n",
    "    numeric_features = list(df.select_dtypes(include=[np.number]).columns)\n",
    "    nonnumeric_features = [feature for feature in X.columns if feature not in numeric_features]\n",
    "    \n",
    "    # Set figure space\n",
    "    plt.style.use('seaborn')\n",
    "    n_row = int(np.ceil(len(nonnumeric_features)/n_col))\n",
    "    fig, axs = plt.subplots(n_row, n_col, figsize=(fig_width, fig_height), \n",
    "                            gridspec_kw={\"hspace\": hspace, \"wspace\": wspace})\n",
    "    plots = []\n",
    "    for ax in axs:\n",
    "        try:\n",
    "            for plot in ax:\n",
    "                plots.append(plot)\n",
    "        except:\n",
    "            plots.append(ax)\n",
    "\n",
    "    # Plot distributions and test for normality\n",
    "    for i, feature in enumerate(nonnumeric_features):\n",
    "        \n",
    "        # Set count df for plot\n",
    "        labels = list(set(X[feature]))\n",
    "        counts = [list(X[feature]).count(c) for c in labels]\n",
    "        plot_df = pd.DataFrame({'labels': [label if label is not np.nan else \"Missing\" for label in labels], \n",
    "                                'counts': counts})\n",
    "        \n",
    "        \n",
    "        # Plot\n",
    "        sns.barplot(data=plot_df, y=\"labels\", x=\"counts\", ax=plots[i], color=\"tab:blue\")\n",
    "        plots[i].set_title(feature, fontsize=12)\n",
    "        plots[i].set_ylabel('')\n",
    "        \n",
    "    plt.show()\n",
    "    \n",
    "    "
   ]
  },
  {
   "cell_type": "markdown",
   "id": "0e349d6e",
   "metadata": {},
   "source": [
    "## Feature Visualization"
   ]
  },
  {
   "cell_type": "code",
   "execution_count": 183,
   "id": "5e7308ed",
   "metadata": {},
   "outputs": [],
   "source": [
    "# Split data for visualizations\n",
    "X, y = X_y_split(df=data50_df, target='Pathologic?', to_numpy=False)"
   ]
  },
  {
   "cell_type": "markdown",
   "id": "bb1d31d9",
   "metadata": {},
   "source": [
    "### Numeric Features"
   ]
  },
  {
   "cell_type": "code",
   "execution_count": 7,
   "id": "80432697",
   "metadata": {},
   "outputs": [
    {
     "data": {
      "image/png": "[encoded data removed]",
      "text/plain": [
       "<Figure size 864x576 with 4 Axes>"
      ]
     },
     "metadata": {
      "needs_background": "light"
     },
     "output_type": "display_data"
    }
   ],
   "source": [
    "num_feature_dist_plot(df=X, n_col=2, fig_width=12, fig_height=8, bins=10, hspace=0.3, wspace=0.2)"
   ]
  },
  {
   "cell_type": "markdown",
   "id": "854bc1ca",
   "metadata": {},
   "source": [
    "### Categorical Features"
   ]
  },
  {
   "cell_type": "code",
   "execution_count": 8,
   "id": "3bd2c51b",
   "metadata": {},
   "outputs": [
    {
     "data": {
      "image/png": "[encoded data removed]",
      "text/plain": [
       "<Figure size 1440x360 with 2 Axes>"
      ]
     },
     "metadata": {},
     "output_type": "display_data"
    }
   ],
   "source": [
    "cat_feature_count_plot(df=X, n_col=2, fig_width=20, fig_height=5, hspace=0, wspace=0.5)"
   ]
  },
  {
   "cell_type": "markdown",
   "id": "c99a5de6",
   "metadata": {},
   "source": [
    "## Outcome Visualization"
   ]
  },
  {
   "cell_type": "code",
   "execution_count": 9,
   "id": "27e4e488",
   "metadata": {},
   "outputs": [
    {
     "data": {
      "text/plain": [
       "Text(0, 0.5, '')"
      ]
     },
     "execution_count": 9,
     "metadata": {},
     "output_type": "execute_result"
    },
    {
     "data": {
      "image/png": "[encoded data removed]",
      "text/plain": [
       "<Figure size 576x396 with 1 Axes>"
      ]
     },
     "metadata": {},
     "output_type": "display_data"
    }
   ],
   "source": [
    "# Encode outcome var\n",
    "yVis = y.copy()\n",
    "yVis = yVis.map({0: 'Not Pathologic', 1: 'Pathologic'})\n",
    "\n",
    "# Set count df for plot\n",
    "labels = list(set(yVis))\n",
    "counts = [list(yVis).count(c) for c in labels]\n",
    "plot_df = pd.DataFrame({'labels': [label if label is not np.nan else \"Missing\" for label in labels], \n",
    "                        'counts': counts})    \n",
    "        \n",
    "# Plot\n",
    "fig, ax = plt.subplots()\n",
    "sns.barplot(data=plot_df, y=\"labels\", x=\"counts\", color=\"tab:blue\")\n",
    "ax.set_title('Pathologic? Outcome', fontsize=12)\n",
    "ax.set_ylabel('')"
   ]
  },
  {
   "cell_type": "markdown",
   "id": "13da86db",
   "metadata": {},
   "source": [
    "# Data Pre-Processing"
   ]
  },
  {
   "cell_type": "markdown",
   "id": "d8e18f6c",
   "metadata": {},
   "source": [
    "## Categorical Variable Encoding"
   ]
  },
  {
   "cell_type": "code",
   "execution_count": 157,
   "id": "ebfe9744",
   "metadata": {},
   "outputs": [],
   "source": [
    "def encodeCategories(X):\n",
    "    '''\n",
    "    Function to encode categorical features\n",
    "    Features with two categories will be encoded as binary\n",
    "    Features with more than two categories will be one-hot-encoded\n",
    "    '''\n",
    "    # Copy df \n",
    "    df = X.copy()\n",
    "    categorialColumnNames_list = df.select_dtypes(include=['object']).columns.values.tolist()\n",
    "    featureCategoryCount_dict = {feature: len(set(df[feature])) for feature in categorialColumnNames_list}\n",
    "    \n",
    "    # Display message\n",
    "    print('Encoding categorical features...\\n')\n",
    "    \n",
    "    # Encode feature based on number of categories\n",
    "    for feature, categoryCount in featureCategoryCount_dict.items():\n",
    "\n",
    "        # Convert binary feature to binary 0, 1\n",
    "        if categoryCount == 2:\n",
    "\n",
    "            # Encode column\n",
    "            feat0, feat1 = tuple(set(df[feature]))\n",
    "            df[feature] = df[feature].map({feat0: 0, feat1: 1})\n",
    "\n",
    "            # Display which category is encoded 0 and 1\n",
    "            print(feature + ' encoded as binary')\n",
    "            print(f'   0: {feat0}')\n",
    "            print(f'   1: {feat1}\\n')\n",
    "\n",
    "        # One-hot-encode feature with more than 2 categories\n",
    "        elif categoryCount > 2:\n",
    "\n",
    "            # Code adapted from Antonio Perez, PhD\n",
    "            # Encode column\n",
    "            encoder = OneHotEncoder(handle_unknown='ignore', sparse=False)\n",
    "            encoder.fit(df[feature].to_numpy().reshape(-1, 1))\n",
    "            encodedData = encoder.transform(df[feature].to_numpy().reshape(-1, 1))\n",
    "\n",
    "            # Copy to data frame\n",
    "            for i in range(encodedData.shape[1]):\n",
    "                if type(encoder.categories_[0][i]) == str:\n",
    "                    df[f'{feature}_{encoder.categories_[0][i]}'] = encodedData[:, i]\n",
    "\n",
    "            # Drop original column\n",
    "            df.pop(feature)\n",
    "\n",
    "            # Display message\n",
    "            print(f'{feature} one-hot-encoded\\n')\n",
    "\n",
    "        # Safe gaurd against features with only one category\n",
    "        else:\n",
    "            pass\n",
    "        \n",
    "    return df\n",
    "\n"
   ]
  },
  {
   "cell_type": "markdown",
   "id": "79d7196e",
   "metadata": {},
   "source": [
    "# Logistic Regression & Cross-Validation\n",
    "\n",
    "**Notes on Stratified K-Fold Cross Validation**  \n",
    "Stratified K-Fold provides train/test indices to split data into train/test sets. Folds are made by preserving the percentage of samples for each class. The number of folds (k) made is controlled by the n_splits parameter. Increasing k decreases the test set size, and vice versa."
   ]
  },
  {
   "cell_type": "markdown",
   "id": "b0807bc2",
   "metadata": {},
   "source": [
    "## Functions for Implementation"
   ]
  },
  {
   "cell_type": "code",
   "execution_count": 241,
   "id": "eab6896d",
   "metadata": {},
   "outputs": [],
   "source": [
    "def flatten_list(list_of_lists):\n",
    "    '''\n",
    "    Function to flatten a list of lists into one list\n",
    "    e.g. [[1, 0, 0], [0, 0, 1]] -> [1, 0, 0, 0, 0, 1]\n",
    "    Source: https://stackoverflow.com/questions/952914/how-do-i-make-a-flat-list-out-of-a-list-of-lists\n",
    "    '''\n",
    "    return [item for sublist in list_of_lists for item in sublist]\n",
    "\n",
    "\n",
    "def kFold_logReg_classification(X, y, k_fold: int):\n",
    "    '''\n",
    "    Function to implement k-fold cross-validation for Logistic Regression Classification\n",
    "    \n",
    "    Inputs: \n",
    "        X: Features (numpy matrix)\n",
    "        y: Target (numpy array)\n",
    "        k_fold (number of splits for stratified k-fold cross-validator)\n",
    "        \n",
    "    Outputs:\n",
    "    *NOTE: All outputs are concatenated lists that contain results from all folds*\n",
    "        y_true: True values of targets\n",
    "        y_pred: Predicted values of targets (as determined by trained Logistic Regression model)\n",
    "        y_score: Target scores (probability estimates of the positive class)\n",
    "    '''\n",
    "    \n",
    "    # Initialize stratified k-fold cross-validator\n",
    "    kfold = StratifiedKFold(n_splits=k_fold, shuffle=True, random_state=1)\n",
    "    \n",
    "    # Store train/test split sizes for each fold size\n",
    "    fold_info = ''\n",
    "    \n",
    "    # Initialize list to store results\n",
    "    y_true_allFolds = []\n",
    "    y_pred_allFolds = []\n",
    "    y_score_allFolds = []\n",
    "\n",
    "    # For each fold (#folds = k): train, test, evaluate performance\n",
    "    for train_index, test_index in kfold.split(X, y):\n",
    "\n",
    "        # Display train/test split size\n",
    "        fold_info = f'n_kFold: {k_fold}, n_Train: {len(train_index)}, n_Test: {len(test_index)}\\n'\n",
    "\n",
    "        # Split data into train/test sets\n",
    "        X_train, X_test = X[train_index], X[test_index]\n",
    "        y_train, y_test = y[train_index], y[test_index]\n",
    "\n",
    "        # Standardize features - train scalar on test set to prevent test set leak\n",
    "        scaler = StandardScaler()               # Initialize scaler\n",
    "        X_train = scaler.fit_transform(X_train) # Train scalar on training set and tranform training set\n",
    "        X_test = scaler.transform(X_test)       # Transform test set\n",
    "\n",
    "        # Train logistic regression model\n",
    "        logisticReg = LogisticRegression()\n",
    "        logisticReg.fit(X_train, y_train)\n",
    "\n",
    "        # Make predictions on test set\n",
    "        y_pred = logisticReg.predict(X_test)\n",
    "        y_score = logisticReg.predict_proba(X_test)[:,1]\n",
    "\n",
    "        # Append results from all folds into collective lists\n",
    "        y_true_allFolds.append(list(y_test))\n",
    "        y_pred_allFolds.append(list(y_pred))\n",
    "        y_score_allFolds.append(list(y_score))\n",
    "    \n",
    "    # Flatten lists to evaluate all folds collectively\n",
    "    y_true_allFoldsFlat = np.array(flatten_list(y_true_allFolds))\n",
    "    y_pred_allFoldsFlat = np.array(flatten_list(y_pred_allFolds))\n",
    "    y_score_allFoldsFlat = np.array(flatten_list(y_score_allFolds))\n",
    "    \n",
    "    # Provide fold information (n_kFold, n_Train, n_Test)\n",
    "    print('Stratified k-fold cross-validation information')\n",
    "    print(fold_info + '\\n')\n",
    "    \n",
    "    # Return lists\n",
    "    return y_true_allFoldsFlat, y_pred_allFoldsFlat, y_score_allFoldsFlat\n",
    "\n",
    "\n",
    "def logReg_performance_eval(y_true, y_pred, y_score, roc_label):\n",
    "    '''\n",
    "    Function to evaluate performance of Logistic Regression (or any binary) classifier\n",
    "    \n",
    "    Inputs:\n",
    "        y_true: True values of targets\n",
    "        y_pred: Predicted values of targets (as determined by trained model)\n",
    "        y_score: Target scores (probability estimates of the positive class)\n",
    "        \n",
    "    Outputs:\n",
    "        Classification report\n",
    "        ROC curve with AUC score reported\n",
    "    '''\n",
    "    \n",
    "    # Performance evaluation\n",
    "    print(classification_report(y_true, y_pred))\n",
    "\n",
    "    # ROC & AUC\n",
    "    fpr, tpr, _ = roc_curve(y_true, y_score)\n",
    "    auc = roc_auc_score(y_true, y_score)    \n",
    "    \n",
    "    # ROC Curve\n",
    "    #plt.figure()\n",
    "    plt.plot(fpr, tpr, marker='.', label=f'{roc_label} (AUC = %0.2f)' % auc)\n",
    "    plt.xlabel('False Positive Rate')\n",
    "    plt.ylabel('True Positive Rate')\n",
    "    plt.legend(loc='lower right')\n",
    "    #plt.show()\n",
    "    \n",
    "    "
   ]
  },
  {
   "cell_type": "markdown",
   "id": "77bb032c",
   "metadata": {},
   "source": [
    "## 50 Sample Data Set"
   ]
  },
  {
   "cell_type": "code",
   "execution_count": 243,
   "id": "8ad23a23",
   "metadata": {},
   "outputs": [
    {
     "name": "stdout",
     "output_type": "stream",
     "text": [
      "Encoding categorical features...\n",
      "\n",
      "Sex encoded as binary\n",
      "   0: Male\n",
      "   1: Female\n",
      "\n",
      "Racial group one-hot-encoded\n",
      "\n",
      "-----------------------------------------------\n",
      "\n",
      "Stratified k-fold cross-validation information\n",
      "n_kFold: 2, n_Train: 25, n_Test: 25\n",
      "\n",
      "\n",
      "              precision    recall  f1-score   support\n",
      "\n",
      "           0       0.87      1.00      0.93        40\n",
      "           1       1.00      0.40      0.57        10\n",
      "\n",
      "    accuracy                           0.88        50\n",
      "   macro avg       0.93      0.70      0.75        50\n",
      "weighted avg       0.90      0.88      0.86        50\n",
      "\n",
      "------------------------------------------------------------\n",
      "\n",
      "Stratified k-fold cross-validation information\n",
      "n_kFold: 5, n_Train: 40, n_Test: 10\n",
      "\n",
      "\n",
      "              precision    recall  f1-score   support\n",
      "\n",
      "           0       0.86      0.95      0.90        40\n",
      "           1       0.67      0.40      0.50        10\n",
      "\n",
      "    accuracy                           0.84        50\n",
      "   macro avg       0.77      0.68      0.70        50\n",
      "weighted avg       0.82      0.84      0.82        50\n",
      "\n",
      "------------------------------------------------------------\n",
      "\n",
      "Stratified k-fold cross-validation information\n",
      "n_kFold: 10, n_Train: 45, n_Test: 5\n",
      "\n",
      "\n",
      "              precision    recall  f1-score   support\n",
      "\n",
      "           0       0.86      0.93      0.89        40\n",
      "           1       0.57      0.40      0.47        10\n",
      "\n",
      "    accuracy                           0.82        50\n",
      "   macro avg       0.72      0.66      0.68        50\n",
      "weighted avg       0.80      0.82      0.81        50\n",
      "\n",
      "------------------------------------------------------------\n",
      "\n",
      "Stratified k-fold cross-validation information\n",
      "n_kFold: 20, n_Train: 48, n_Test: 2\n",
      "\n",
      "\n",
      "              precision    recall  f1-score   support\n",
      "\n",
      "           0       0.86      0.90      0.88        40\n",
      "           1       0.50      0.40      0.44        10\n",
      "\n",
      "    accuracy                           0.80        50\n",
      "   macro avg       0.68      0.65      0.66        50\n",
      "weighted avg       0.79      0.80      0.79        50\n",
      "\n",
      "------------------------------------------------------------\n",
      "\n"
     ]
    },
    {
     "name": "stderr",
     "output_type": "stream",
     "text": [
      "/opt/anaconda3/lib/python3.8/site-packages/sklearn/model_selection/_split.py:666: UserWarning: The least populated class in y has only 10 members, which is less than n_splits=20.\n",
      "  warnings.warn((\"The least populated class in y has only %d\"\n"
     ]
    },
    {
     "data": {
      "image/png": "[encoded data removed]",
      "text/plain": [
       "<Figure size 576x396 with 1 Axes>"
      ]
     },
     "metadata": {},
     "output_type": "display_data"
    }
   ],
   "source": [
    "# Split into X, y and encode categorical features\n",
    "# 50/50, 60/40, 70/30, 80/20, 90/10\n",
    "\n",
    "X, y = X_y_split(df=data50_df, target='Pathologic?', to_numpy=False)\n",
    "X = encodeCategories(X)\n",
    "print(f'-----------------------------------------------\\n')\n",
    "\n",
    "# Implement k-fold cross-validation with logistic regression classifier for multiple sizes of k\n",
    "k_sizes = [2, 5, 10, 20]\n",
    "for k in k_sizes:\n",
    "    \n",
    "    # Stratified k-fold cross-validation of Logistic Regression model\n",
    "    y_true, y_pred, y_score = kFold_logReg_classification(X=X.to_numpy(), y=y.to_numpy(), k_fold=k)\n",
    "    \n",
    "    # Evaluate performance\n",
    "    logReg_performance_eval(y_true=y_true, y_pred=y_pred, y_score=y_score, roc_label=f'Test Size {int(50/k)}')\n",
    "    print(f'------------------------------------------------------------\\n')\n",
    "    "
   ]
  },
  {
   "cell_type": "markdown",
   "id": "63a7277e",
   "metadata": {},
   "source": [
    "## 200 Sample Data Set"
   ]
  },
  {
   "cell_type": "code",
   "execution_count": 246,
   "id": "8a593576",
   "metadata": {},
   "outputs": [
    {
     "name": "stdout",
     "output_type": "stream",
     "text": [
      "Encoding categorical features...\n",
      "\n",
      "Sex encoded as binary\n",
      "   0: Male\n",
      "   1: Female\n",
      "\n",
      "Racial group one-hot-encoded\n",
      "\n",
      "-----------------------------------------------\n",
      "\n",
      "Stratified k-fold cross-validation information\n",
      "n_kFold: 2, n_Train: 100, n_Test: 100\n",
      "\n",
      "\n",
      "              precision    recall  f1-score   support\n",
      "\n",
      "           0       0.85      0.96      0.90       160\n",
      "           1       0.65      0.33      0.43        40\n",
      "\n",
      "    accuracy                           0.83       200\n",
      "   macro avg       0.75      0.64      0.67       200\n",
      "weighted avg       0.81      0.83      0.81       200\n",
      "\n",
      "------------------------------------------------------------\n",
      "\n",
      "Stratified k-fold cross-validation information\n",
      "n_kFold: 4, n_Train: 150, n_Test: 50\n",
      "\n",
      "\n",
      "              precision    recall  f1-score   support\n",
      "\n",
      "           0       0.85      0.95      0.90       160\n",
      "           1       0.62      0.33      0.43        40\n",
      "\n",
      "    accuracy                           0.82       200\n",
      "   macro avg       0.73      0.64      0.66       200\n",
      "weighted avg       0.80      0.82      0.80       200\n",
      "\n",
      "------------------------------------------------------------\n",
      "\n",
      "Stratified k-fold cross-validation information\n",
      "n_kFold: 8, n_Train: 175, n_Test: 25\n",
      "\n",
      "\n",
      "              precision    recall  f1-score   support\n",
      "\n",
      "           0       0.85      0.93      0.89       160\n",
      "           1       0.54      0.33      0.41        40\n",
      "\n",
      "    accuracy                           0.81       200\n",
      "   macro avg       0.69      0.63      0.65       200\n",
      "weighted avg       0.79      0.81      0.79       200\n",
      "\n",
      "------------------------------------------------------------\n",
      "\n",
      "Stratified k-fold cross-validation information\n",
      "n_kFold: 20, n_Train: 190, n_Test: 10\n",
      "\n",
      "\n",
      "              precision    recall  f1-score   support\n",
      "\n",
      "           0       0.85      0.93      0.89       160\n",
      "           1       0.56      0.35      0.43        40\n",
      "\n",
      "    accuracy                           0.81       200\n",
      "   macro avg       0.71      0.64      0.66       200\n",
      "weighted avg       0.79      0.81      0.80       200\n",
      "\n",
      "------------------------------------------------------------\n",
      "\n",
      "Stratified k-fold cross-validation information\n",
      "n_kFold: 40, n_Train: 195, n_Test: 5\n",
      "\n",
      "\n",
      "              precision    recall  f1-score   support\n",
      "\n",
      "           0       0.85      0.94      0.89       160\n",
      "           1       0.58      0.35      0.44        40\n",
      "\n",
      "    accuracy                           0.82       200\n",
      "   macro avg       0.72      0.64      0.67       200\n",
      "weighted avg       0.80      0.82      0.80       200\n",
      "\n",
      "------------------------------------------------------------\n",
      "\n"
     ]
    },
    {
     "name": "stderr",
     "output_type": "stream",
     "text": [
      "/opt/anaconda3/lib/python3.8/site-packages/sklearn/model_selection/_split.py:666: UserWarning: The least populated class in y has only 40 members, which is less than n_splits=100.\n",
      "  warnings.warn((\"The least populated class in y has only %d\"\n"
     ]
    },
    {
     "name": "stdout",
     "output_type": "stream",
     "text": [
      "Stratified k-fold cross-validation information\n",
      "n_kFold: 100, n_Train: 198, n_Test: 2\n",
      "\n",
      "\n",
      "              precision    recall  f1-score   support\n",
      "\n",
      "           0       0.85      0.93      0.89       160\n",
      "           1       0.56      0.35      0.43        40\n",
      "\n",
      "    accuracy                           0.81       200\n",
      "   macro avg       0.71      0.64      0.66       200\n",
      "weighted avg       0.79      0.81      0.80       200\n",
      "\n",
      "------------------------------------------------------------\n",
      "\n"
     ]
    },
    {
     "data": {
      "image/png": "[encoded data removed]",
      "text/plain": [
       "<Figure size 576x396 with 1 Axes>"
      ]
     },
     "metadata": {},
     "output_type": "display_data"
    }
   ],
   "source": [
    "# Split into X, y and encode categorical features\n",
    "X, y = X_y_split(df=data200_df, target='Pathologic?', to_numpy=False)\n",
    "X = encodeCategories(X)\n",
    "print(f'-----------------------------------------------\\n')\n",
    "\n",
    "# Implement k-fold cross-validation with logistic regression classifier for multiple sizes of k\n",
    "k_sizes = [2, 4, 8, 20, 40, 100]\n",
    "for k in k_sizes:\n",
    "    \n",
    "    # Stratified k-fold cross-validation of Logistic Regression model\n",
    "    y_true, y_pred, y_score = kFold_logReg_classification(X=X.to_numpy(), y=y.to_numpy(), k_fold=k)\n",
    "    \n",
    "    # Evaluate performance\n",
    "    logReg_performance_eval(y_true=y_true, y_pred=y_pred, y_score=y_score, roc_label=f'Test Size {int(200/k)}')\n",
    "    print(f'------------------------------------------------------------\\n')\n",
    "    "
   ]
  }
 ],
 "metadata": {
  "kernelspec": {
   "display_name": "Python 3",
   "language": "python",
   "name": "python3"
  },
  "language_info": {
   "codemirror_mode": {
    "name": "ipython",
    "version": 3
   },
   "file_extension": ".py",
   "mimetype": "text/x-python",
   "name": "python",
   "nbconvert_exporter": "python",
   "pygments_lexer": "ipython3",
   "version": "3.8.8"
  }
 },
 "nbformat": 4,
 "nbformat_minor": 5
}
