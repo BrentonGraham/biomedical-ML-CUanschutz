{
 "cells": [
  {
   "cell_type": "code",
   "execution_count": 1,
   "id": "ca722dee",
   "metadata": {},
   "outputs": [],
   "source": [
    "import numpy as np\n",
    "import pandas as pd\n",
    "import matplotlib.pyplot as plt\n",
    "import seaborn as sns\n",
    "import torch\n",
    "import tensorflow as tf\n",
    "import tensorboard\n",
    "from torch.utils.tensorboard import SummaryWriter\n",
    "import os\n",
    "import sklearn\n",
    "from sklearn.preprocessing import StandardScaler\n",
    "from sklearn.linear_model import LogisticRegression\n",
    "from sklearn.metrics import roc_curve, roc_auc_score, accuracy_score, confusion_matrix\n",
    "from NN_MultiLayer import NeuralNetwork_MultiLayer # NN_MultiLayer.py in wkdir\n",
    "from NN_SingleLayer import NeuralNetwork_SingleLayer # NN_SingleLayer.py in wkdir\n",
    "from itertools import chain\n",
    "import warnings\n",
    "warnings.filterwarnings(\"ignore\")"
   ]
  },
  {
   "cell_type": "markdown",
   "id": "e5935dcb",
   "metadata": {},
   "source": [
    "# Background\n",
    "Our research team is interested in creating an automatic method to detect the risk of cancer using high throughput data obtained after sequencing liver cells. They collected data from 10,000 subjects, half of which developed cancer at some point during their lives. All sequencing data was summarized in only 500 variables. The datasets were divided between training (to build a classification model), validation (to obtain insight potential overfitting to the training data) and test (to evaluate model performance on an independent dataset)\n",
    "\n",
    "# Goals\n",
    "\n",
    "1. To build and evaluate the performance of a linear classification model (e.g., linear SVM, logistic regression). Please, provide the accuracy, sensitivity, specificity and probability distributions on the training, validation and tests datasets. Discuss any potential differences between the datasets.\n",
    "<br><br>\n",
    "2. To build and evaluate the performance of a fully connected neural network with: (i) only one layer of perceptrons and (ii) more than one layer of perceptrons. Please, provide the accuracy, sensitivity, specificity and probability distributions on the training, validation and tests datasets. Discuss any potential differences between the datasets.\n",
    "<br><br>\n",
    "3. Quantify and discuss the differences in performance between the linear classification model, the neural network with one single layer and the more complex neural network. Please, provide clear explanations about the observed differences and similarities.  "
   ]
  },
  {
   "cell_type": "markdown",
   "id": "9d3a9661",
   "metadata": {},
   "source": [
    "# Import, Separate & Scale Data"
   ]
  },
  {
   "cell_type": "code",
   "execution_count": 2,
   "id": "22805422",
   "metadata": {},
   "outputs": [],
   "source": [
    "# Reading datasets\n",
    "trainingData = pd.read_excel('./GeneExpressionCancer_training.xlsx').to_numpy()\n",
    "trainingLabels = trainingData[:,-1]\n",
    "trainingData = trainingData[:,:-1]\n",
    "\n",
    "validationData = pd.read_excel('./GeneExpressionCancer_validation.xlsx').to_numpy()\n",
    "validationLabels = validationData[:,-1]\n",
    "validationData = validationData[:,:-1]\n",
    "\n",
    "testData = pd.read_excel('./GeneExpressionCancer_test.xlsx').to_numpy()\n",
    "testLabels = testData[:,-1]\n",
    "testData = testData[:,:-1]\n",
    "\n",
    "# Normalizing features\n",
    "scaler = sklearn.preprocessing.StandardScaler()\n",
    "trainingData = scaler.fit_transform(trainingData)\n",
    "validationData = scaler.transform(validationData)\n",
    "testData = scaler.transform(testData)"
   ]
  },
  {
   "cell_type": "markdown",
   "id": "3ab3cfb2",
   "metadata": {},
   "source": [
    "# Linear Classifier\n",
    "Choosing logistic regression as the linear classifier here."
   ]
  },
  {
   "cell_type": "code",
   "execution_count": 3,
   "id": "956b8e01",
   "metadata": {},
   "outputs": [],
   "source": [
    "# Train logistic regression model\n",
    "logisticReg = LogisticRegression()\n",
    "logisticReg.fit(trainingData, trainingLabels)\n",
    "\n",
    "# Make predictions on validation set\n",
    "validation_yPred = logisticReg.predict(validationData)\n",
    "validation_yScore = logisticReg.predict_proba(validationData)[:,1]\n",
    "\n",
    "# Make predictions on test set\n",
    "test_yPred = logisticReg.predict(testData)\n",
    "test_yScore = logisticReg.predict_proba(testData)[:,1]"
   ]
  },
  {
   "cell_type": "code",
   "execution_count": 4,
   "id": "dd5d8bf7",
   "metadata": {},
   "outputs": [],
   "source": [
    "def performance_eval(y_true, y_pred):\n",
    "    '''\n",
    "    Function to evaluate performance of a binary classifier\n",
    "    \n",
    "    Inputs:\n",
    "        y_true: True values of targets\n",
    "        y_pred: Predicted values of targets (as determined by trained model)\n",
    "        \n",
    "    Outputs:\n",
    "        Accuracy, Sensitivity and Specificity\n",
    "    '''\n",
    "    \n",
    "    # Calculate sensitivity and specificity\n",
    "    tn, fp, fn, tp = confusion_matrix(y_true, y_pred).ravel()\n",
    "    sensitivity = tp / (tp + fn)\n",
    "    specificity = tn / (tn + fp)\n",
    "    \n",
    "    # Print accuracy, sensitivity and specificity\n",
    "    print(f'Accuracy:    {round(accuracy_score(y_true, y_pred), 3)}')\n",
    "    print(f'Sensitivity: {round(sensitivity, 3)}')\n",
    "    print(f'Specificity: {round(specificity, 3)}\\n')\n",
    "    \n",
    "\n",
    "def plot_roc_curve(y_true, y_score, label):\n",
    "    '''\n",
    "    Function to display ROC curve and AUC from classifier\n",
    "    \n",
    "    Inputs:\n",
    "        y_true: True values of targets\n",
    "        y_score: Target scores (probability estimates of the positive class)\n",
    "        \n",
    "    Outputs:\n",
    "        ROC curve with AUC score reported\n",
    "    '''\n",
    "    \n",
    "    # ROC, AUC\n",
    "    fpr, tpr, _ = roc_curve(y_true, y_score)\n",
    "    auc = roc_auc_score(y_true, y_score)\n",
    "    \n",
    "    # ROC Curve\n",
    "    plt.plot(fpr, tpr, marker='.', label=f'{label} (AUC = {round(auc, 3)})')\n",
    "    plt.title('ROC Curve')\n",
    "    plt.xlabel('False Positive Rate')\n",
    "    plt.ylabel('True Positive Rate')\n",
    "    plt.legend(loc='lower right')\n",
    "    "
   ]
  },
  {
   "cell_type": "markdown",
   "id": "aa8a7fe2",
   "metadata": {},
   "source": [
    "## Performance evaluation\n",
    "The logistic regression classifier predictions are centered around 0.5 which indicates that most class predictions could go either way. It doesn't appear that this classifier is able to distinguish classes well. There doesn't appear to be any large differences between predictions on the validation and test sets.\n",
    "\n",
    "### Validation Set"
   ]
  },
  {
   "cell_type": "code",
   "execution_count": 5,
   "id": "396f2f66",
   "metadata": {},
   "outputs": [
    {
     "name": "stdout",
     "output_type": "stream",
     "text": [
      "Accuracy:    0.508\n",
      "Sensitivity: 0.486\n",
      "Specificity: 0.53\n",
      "\n"
     ]
    },
    {
     "data": {
      "text/plain": [
       "<AxesSubplot:>"
      ]
     },
     "execution_count": 5,
     "metadata": {},
     "output_type": "execute_result"
    },
    {
     "data": {
      "image/png": "[encoded data removed]",
      "text/plain": [
       "<Figure size 432x288 with 1 Axes>"
      ]
     },
     "metadata": {
      "needs_background": "light"
     },
     "output_type": "display_data"
    }
   ],
   "source": [
    "# Validation Set\n",
    "performance_eval(y_true=validationLabels, y_pred=validation_yPred)\n",
    "sns.distplot(validation_yScore, hist=True, kde=False, bins=10)"
   ]
  },
  {
   "cell_type": "markdown",
   "id": "8527c82f",
   "metadata": {},
   "source": [
    "### Test Set"
   ]
  },
  {
   "cell_type": "code",
   "execution_count": 6,
   "id": "49893e61",
   "metadata": {},
   "outputs": [
    {
     "name": "stdout",
     "output_type": "stream",
     "text": [
      "Accuracy:    0.527\n",
      "Sensitivity: 0.535\n",
      "Specificity: 0.518\n",
      "\n"
     ]
    },
    {
     "data": {
      "text/plain": [
       "<AxesSubplot:>"
      ]
     },
     "execution_count": 6,
     "metadata": {},
     "output_type": "execute_result"
    },
    {
     "data": {
      "image/png": "[encoded data removed]",
      "text/plain": [
       "<Figure size 432x288 with 1 Axes>"
      ]
     },
     "metadata": {
      "needs_background": "light"
     },
     "output_type": "display_data"
    }
   ],
   "source": [
    "performance_eval(y_true=testLabels, y_pred=test_yPred)\n",
    "sns.distplot(test_yScore, hist=True, kde=False, bins=10)"
   ]
  },
  {
   "cell_type": "markdown",
   "id": "07519225",
   "metadata": {},
   "source": [
    "### ROC Curves"
   ]
  },
  {
   "cell_type": "code",
   "execution_count": 7,
   "id": "c4a028a4",
   "metadata": {},
   "outputs": [
    {
     "data": {
      "image/png": "[encoded data removed]",
      "text/plain": [
       "<Figure size 432x288 with 1 Axes>"
      ]
     },
     "metadata": {
      "needs_background": "light"
     },
     "output_type": "display_data"
    }
   ],
   "source": [
    "plot_roc_curve(y_true=validationLabels, y_score=validation_yScore, label=\"ValidationSet\")\n",
    "plot_roc_curve(y_true=testLabels, y_score=test_yScore, label=\"TestSet\")"
   ]
  },
  {
   "cell_type": "markdown",
   "id": "1cb7b277",
   "metadata": {},
   "source": [
    "# Neural Networks\n",
    "Networks are built in separate .py files that are located within the working directory."
   ]
  },
  {
   "cell_type": "markdown",
   "id": "fc1a861a",
   "metadata": {},
   "source": [
    "## Single Perceptron Layer NN"
   ]
  },
  {
   "cell_type": "code",
   "execution_count": 8,
   "id": "1ca979d0",
   "metadata": {},
   "outputs": [],
   "source": [
    "# Remove logs from previous runs\n",
    "os.system('rm -rf runs/*')\n",
    "\n",
    "# Load the tensorboard notebook extension\n",
    "%load_ext tensorboard"
   ]
  },
  {
   "cell_type": "code",
   "execution_count": 9,
   "id": "3b3e9dd2",
   "metadata": {},
   "outputs": [],
   "source": [
    "# Instantiate\n",
    "nn_singleLayer = NeuralNetwork_SingleLayer(nFeatures=trainingData.shape[1])\n",
    "\n",
    "# Train\n",
    "nn_singleLayer.trainModel(\n",
    "    trainingFeatures=trainingData, \n",
    "    trainingLabels=trainingLabels, \n",
    "    validationFeatures=validationData, \n",
    "    validationLabels=validationLabels)"
   ]
  },
  {
   "cell_type": "code",
   "execution_count": 10,
   "id": "578b15ee",
   "metadata": {},
   "outputs": [
    {
     "data": {
      "text/html": [
       "\n",
       "      <iframe id=\"tensorboard-frame-8b5ba65e96526d38\" width=\"100%\" height=\"800\" frameborder=\"0\">\n",
       "      </iframe>\n",
       "      <script>\n",
       "        (function() {\n",
       "          const frame = document.getElementById(\"tensorboard-frame-8b5ba65e96526d38\");\n",
       "          const url = new URL(\"/\", window.location);\n",
       "          const port = 6006;\n",
       "          if (port) {\n",
       "            url.port = port;\n",
       "          }\n",
       "          frame.src = url;\n",
       "        })();\n",
       "      </script>\n",
       "    "
      ],
      "text/plain": [
       "<IPython.core.display.HTML object>"
      ]
     },
     "metadata": {},
     "output_type": "display_data"
    }
   ],
   "source": [
    "%tensorboard --logdir=runs"
   ]
  },
  {
   "cell_type": "code",
   "execution_count": 11,
   "id": "4c038f05",
   "metadata": {},
   "outputs": [],
   "source": [
    "# Test data\n",
    "# Predicted probabilities\n",
    "sL_yScore = nn_singleLayer.predict(features=testData, proba=True)\n",
    "sL_yScore = list(chain(*sL_yScore.tolist()))\n",
    "\n",
    "# Predicted classes\n",
    "sL_predClass = nn_singleLayer.predict(features=testData, proba=False)\n",
    "sL_predClass = list(chain(*sL_predClass.tolist()))"
   ]
  },
  {
   "cell_type": "markdown",
   "id": "281e552a",
   "metadata": {},
   "source": [
    "## Multilayer NN"
   ]
  },
  {
   "cell_type": "code",
   "execution_count": 12,
   "id": "6a41120f",
   "metadata": {},
   "outputs": [
    {
     "name": "stdout",
     "output_type": "stream",
     "text": [
      "The tensorboard extension is already loaded. To reload it, use:\n",
      "  %reload_ext tensorboard\n"
     ]
    }
   ],
   "source": [
    "# Remove logs from previous runs\n",
    "os.system('rm -rf runs/*')\n",
    "\n",
    "# Load the tensorboard notebook extension\n",
    "%load_ext tensorboard"
   ]
  },
  {
   "cell_type": "code",
   "execution_count": 13,
   "id": "d01611d9",
   "metadata": {},
   "outputs": [],
   "source": [
    "# Instantiate\n",
    "nn_multiLayer = NeuralNetwork_MultiLayer(nFeatures=trainingData.shape[1])\n",
    "\n",
    "# Train\n",
    "nn_multiLayer.trainModel(\n",
    "    trainingFeatures=trainingData, \n",
    "    trainingLabels=trainingLabels, \n",
    "    validationFeatures=validationData, \n",
    "    validationLabels=validationLabels)"
   ]
  },
  {
   "cell_type": "code",
   "execution_count": 14,
   "id": "ed62c197",
   "metadata": {
    "scrolled": true
   },
   "outputs": [
    {
     "data": {
      "text/plain": [
       "Reusing TensorBoard on port 6006 (pid 15135), started 0:00:10 ago. (Use '!kill 15135' to kill it.)"
      ]
     },
     "metadata": {},
     "output_type": "display_data"
    },
    {
     "data": {
      "text/html": [
       "\n",
       "      <iframe id=\"tensorboard-frame-3ba6a62e89467875\" width=\"100%\" height=\"800\" frameborder=\"0\">\n",
       "      </iframe>\n",
       "      <script>\n",
       "        (function() {\n",
       "          const frame = document.getElementById(\"tensorboard-frame-3ba6a62e89467875\");\n",
       "          const url = new URL(\"/\", window.location);\n",
       "          const port = 6006;\n",
       "          if (port) {\n",
       "            url.port = port;\n",
       "          }\n",
       "          frame.src = url;\n",
       "        })();\n",
       "      </script>\n",
       "    "
      ],
      "text/plain": [
       "<IPython.core.display.HTML object>"
      ]
     },
     "metadata": {},
     "output_type": "display_data"
    }
   ],
   "source": [
    "%tensorboard --logdir=runs"
   ]
  },
  {
   "cell_type": "code",
   "execution_count": 15,
   "id": "4deb7b05",
   "metadata": {},
   "outputs": [],
   "source": [
    "# Test data\n",
    "# Predicted probabilities\n",
    "mL_yScore = nn_multiLayer.predict(features=testData, proba=True)\n",
    "mL_yScore = list(chain(*mL_yScore.tolist()))\n",
    "\n",
    "# Predicted classes\n",
    "mL_predClass = nn_multiLayer.predict(features=testData, proba=False)\n",
    "mL_predClass = list(chain(*mL_predClass.tolist()))"
   ]
  },
  {
   "cell_type": "markdown",
   "id": "46a311fd",
   "metadata": {},
   "source": [
    "## Neural Network Performance Evaluation"
   ]
  },
  {
   "cell_type": "markdown",
   "id": "7252b2d9",
   "metadata": {},
   "source": [
    "### Single Perceptron Layer NN\n",
    "The single perceptron layer NN is essentially reproducing the results of the logistic regression classifier, which makes sense conceptually. With no hidden layers we are having the NN predict classes from the full feature set."
   ]
  },
  {
   "cell_type": "code",
   "execution_count": 16,
   "id": "d6556248",
   "metadata": {},
   "outputs": [
    {
     "name": "stdout",
     "output_type": "stream",
     "text": [
      "Accuracy:    0.527\n",
      "Sensitivity: 0.527\n",
      "Specificity: 0.527\n",
      "\n"
     ]
    },
    {
     "data": {
      "text/plain": [
       "<AxesSubplot:>"
      ]
     },
     "execution_count": 16,
     "metadata": {},
     "output_type": "execute_result"
    },
    {
     "data": {
      "image/png": "[encoded data removed]",
      "text/plain": [
       "<Figure size 432x288 with 1 Axes>"
      ]
     },
     "metadata": {
      "needs_background": "light"
     },
     "output_type": "display_data"
    }
   ],
   "source": [
    "performance_eval(y_true=testLabels, y_pred=sL_predClass)\n",
    "sns.distplot(sL_yScore, hist=True, kde=False, bins=10)"
   ]
  },
  {
   "cell_type": "markdown",
   "id": "4b3575b8",
   "metadata": {},
   "source": [
    "### Multilayer NN\n",
    "Much better performance is seen here all around when we include a hidden layer. The predicted probability distribution shows that the classifier is giving more confident answers, and correctly too."
   ]
  },
  {
   "cell_type": "code",
   "execution_count": 17,
   "id": "394c84b4",
   "metadata": {},
   "outputs": [
    {
     "name": "stdout",
     "output_type": "stream",
     "text": [
      "Accuracy:    0.92\n",
      "Sensitivity: 0.971\n",
      "Specificity: 0.867\n",
      "\n"
     ]
    },
    {
     "data": {
      "text/plain": [
       "<AxesSubplot:>"
      ]
     },
     "execution_count": 17,
     "metadata": {},
     "output_type": "execute_result"
    },
    {
     "data": {
      "image/png": "[encoded data removed]",
      "text/plain": [
       "<Figure size 432x288 with 1 Axes>"
      ]
     },
     "metadata": {
      "needs_background": "light"
     },
     "output_type": "display_data"
    }
   ],
   "source": [
    "performance_eval(y_true=testLabels, y_pred=mL_predClass)\n",
    "sns.distplot(mL_yScore, hist=True, kde=False, bins=10)"
   ]
  },
  {
   "cell_type": "markdown",
   "id": "57cf2824",
   "metadata": {},
   "source": [
    "### ROC Comparison of All Models\n",
    "Wow - the multilayer network is the best classifier I've seen in the class so far!"
   ]
  },
  {
   "cell_type": "code",
   "execution_count": 18,
   "id": "d049bd44",
   "metadata": {},
   "outputs": [
    {
     "data": {
      "image/png": "[encoded data removed]",
      "text/plain": [
       "<Figure size 432x288 with 1 Axes>"
      ]
     },
     "metadata": {
      "needs_background": "light"
     },
     "output_type": "display_data"
    }
   ],
   "source": [
    "plot_roc_curve(y_true=testLabels, y_score=test_yScore, label=\"Logistic Regression\")\n",
    "plot_roc_curve(y_true=testLabels, y_score=sL_yScore, label=\"Single Layer NN\")\n",
    "plot_roc_curve(y_true=testLabels, y_score=mL_yScore, label=\"Multi Layer NN\")"
   ]
  }
 ],
 "metadata": {
  "kernelspec": {
   "display_name": "Python 3",
   "language": "python",
   "name": "python3"
  },
  "language_info": {
   "codemirror_mode": {
    "name": "ipython",
    "version": 3
   },
   "file_extension": ".py",
   "mimetype": "text/x-python",
   "name": "python",
   "nbconvert_exporter": "python",
   "pygments_lexer": "ipython3",
   "version": "3.8.8"
  }
 },
 "nbformat": 4,
 "nbformat_minor": 5
}
