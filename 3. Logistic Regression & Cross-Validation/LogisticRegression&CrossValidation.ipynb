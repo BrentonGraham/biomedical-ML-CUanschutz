{
 "cells": [
  {
   "cell_type": "code",
   "execution_count": 28,
   "id": "1dde6cd5",
   "metadata": {},
   "outputs": [],
   "source": [
    "import pandas as pd\n",
    "import numpy as np\n",
    "import matplotlib.pyplot as plt\n",
    "import seaborn as sns\n",
    "import os\n",
    "import sys\n",
    "import scipy\n",
    "import sklearn\n",
    "from sklearn.preprocessing import OneHotEncoder\n",
    "\n",
    "# Quiet setting warnings\n",
    "pd.options.mode.chained_assignment = None\n",
    "\n",
    "#StratifiedKFold\n",
    "#n_folds\n",
    "#Every fold needs to have unchanged data go in - fit scalar on training; apply to training and test\n",
    "#fit -> transform\n",
    "#How does fold size effect ROC curve?\n",
    "#MinMax - need uniform distribution"
   ]
  },
  {
   "cell_type": "code",
   "execution_count": 6,
   "id": "3b63813e",
   "metadata": {},
   "outputs": [
    {
     "data": {
      "text/html": [
       "<div>\n",
       "<style scoped>\n",
       "    .dataframe tbody tr th:only-of-type {\n",
       "        vertical-align: middle;\n",
       "    }\n",
       "\n",
       "    .dataframe tbody tr th {\n",
       "        vertical-align: top;\n",
       "    }\n",
       "\n",
       "    .dataframe thead th {\n",
       "        text-align: right;\n",
       "    }\n",
       "</style>\n",
       "<table border=\"1\" class=\"dataframe\">\n",
       "  <thead>\n",
       "    <tr style=\"text-align: right;\">\n",
       "      <th></th>\n",
       "      <th>Age</th>\n",
       "      <th>Sex</th>\n",
       "      <th>Racial group</th>\n",
       "      <th>Ejection fraction</th>\n",
       "      <th>Heart rate (bpm)</th>\n",
       "      <th>Systolic blood pressure</th>\n",
       "      <th>Pathologic?</th>\n",
       "    </tr>\n",
       "  </thead>\n",
       "  <tbody>\n",
       "    <tr>\n",
       "      <th>0</th>\n",
       "      <td>59.053851</td>\n",
       "      <td>Male</td>\n",
       "      <td>Asian</td>\n",
       "      <td>0.625929</td>\n",
       "      <td>71.025200</td>\n",
       "      <td>98.960236</td>\n",
       "      <td>0</td>\n",
       "    </tr>\n",
       "    <tr>\n",
       "      <th>1</th>\n",
       "      <td>56.291312</td>\n",
       "      <td>Male</td>\n",
       "      <td>White</td>\n",
       "      <td>0.632001</td>\n",
       "      <td>51.666039</td>\n",
       "      <td>112.938934</td>\n",
       "      <td>0</td>\n",
       "    </tr>\n",
       "    <tr>\n",
       "      <th>2</th>\n",
       "      <td>66.216488</td>\n",
       "      <td>Male</td>\n",
       "      <td>White</td>\n",
       "      <td>0.601147</td>\n",
       "      <td>105.635574</td>\n",
       "      <td>98.363388</td>\n",
       "      <td>1</td>\n",
       "    </tr>\n",
       "    <tr>\n",
       "      <th>3</th>\n",
       "      <td>45.684119</td>\n",
       "      <td>Female</td>\n",
       "      <td>Black or African American</td>\n",
       "      <td>0.546039</td>\n",
       "      <td>96.767563</td>\n",
       "      <td>104.544754</td>\n",
       "      <td>0</td>\n",
       "    </tr>\n",
       "    <tr>\n",
       "      <th>4</th>\n",
       "      <td>69.492794</td>\n",
       "      <td>Female</td>\n",
       "      <td>White</td>\n",
       "      <td>0.677071</td>\n",
       "      <td>86.660133</td>\n",
       "      <td>129.907806</td>\n",
       "      <td>1</td>\n",
       "    </tr>\n",
       "  </tbody>\n",
       "</table>\n",
       "</div>"
      ],
      "text/plain": [
       "         Age     Sex               Racial group  Ejection fraction  \\\n",
       "0  59.053851    Male                      Asian           0.625929   \n",
       "1  56.291312    Male                      White           0.632001   \n",
       "2  66.216488    Male                      White           0.601147   \n",
       "3  45.684119  Female  Black or African American           0.546039   \n",
       "4  69.492794  Female                      White           0.677071   \n",
       "\n",
       "   Heart rate (bpm)  Systolic blood pressure  Pathologic?  \n",
       "0         71.025200                98.960236            0  \n",
       "1         51.666039               112.938934            0  \n",
       "2        105.635574                98.363388            1  \n",
       "3         96.767563               104.544754            0  \n",
       "4         86.660133               129.907806            1  "
      ]
     },
     "execution_count": 6,
     "metadata": {},
     "output_type": "execute_result"
    }
   ],
   "source": [
    "# Import data\n",
    "WORK_DIR = os.getcwd()\n",
    "filename = 'CardiacHypertrophyData_50Samples.xlsx'\n",
    "data50_df = pd.read_excel(f'{WORK_DIR}/{filename}')\n",
    "data50_df.head()"
   ]
  },
  {
   "cell_type": "markdown",
   "id": "4d623311",
   "metadata": {},
   "source": [
    "# EDA"
   ]
  },
  {
   "cell_type": "markdown",
   "id": "3e3551b7",
   "metadata": {},
   "source": [
    "## Missing Data\n",
    "No missing data in this data set"
   ]
  },
  {
   "cell_type": "code",
   "execution_count": 7,
   "id": "b8ee409f",
   "metadata": {},
   "outputs": [
    {
     "data": {
      "text/plain": [
       "Age                        0\n",
       "Sex                        0\n",
       "Racial group               0\n",
       "Ejection fraction          0\n",
       "Heart rate (bpm)           0\n",
       "Systolic blood pressure    0\n",
       "Pathologic?                0\n",
       "dtype: int64"
      ]
     },
     "execution_count": 7,
     "metadata": {},
     "output_type": "execute_result"
    }
   ],
   "source": [
    "data50_df.isnull().sum()"
   ]
  },
  {
   "cell_type": "code",
   "execution_count": 4,
   "id": "3128197f",
   "metadata": {},
   "outputs": [],
   "source": [
    "def num_feature_dist_plot(df, n_col, bins, fig_width, fig_height, hspace, wspace):\n",
    "    '''\n",
    "    Function to plot the distribution of each numeric feature in a data frame\n",
    "    '''\n",
    "\n",
    "    # Extract features to plot - only numeric features will work here\n",
    "    numeric_features = list(df.select_dtypes(include=[np.number]).columns)\n",
    "    \n",
    "    # Set figure space\n",
    "    plt.style.use('seaborn')\n",
    "    n_row = int(np.ceil(len(numeric_features)/n_col))\n",
    "    fig, axs = plt.subplots(n_row, n_col, figsize=(fig_width, fig_height), \n",
    "                            gridspec_kw={\"hspace\": hspace, \"wspace\": wspace})\n",
    "    plots = []\n",
    "    for ax in axs:\n",
    "        try:\n",
    "            for plot in ax:\n",
    "                plots.append(plot)\n",
    "        except:\n",
    "            plots.append(ax)\n",
    "\n",
    "    # Plot distributions and test for normality\n",
    "    for i, feature in enumerate(numeric_features):\n",
    "        \n",
    "        # Plot\n",
    "        sns.histplot(data=df, x=feature, ax=plots[i], color='tab:blue', bins=bins)\n",
    "        plots[i].set_title(feature, fontsize=12)\n",
    "        plots[i].set_xlabel('')\n",
    "        \n",
    "    plt.show()\n",
    "        \n",
    "\n",
    "def cat_feature_count_plot(df, n_col, fig_width, fig_height, hspace, wspace):\n",
    "    '''\n",
    "    Function to plot the distribution of each categorical feature in a data frame\n",
    "    '''\n",
    "\n",
    "    # Extract features to plot - only non-numeric features will work here\n",
    "    numeric_features = list(df.select_dtypes(include=[np.number]).columns)\n",
    "    nonnumeric_features = [feature for feature in X.columns if feature not in numeric_features]\n",
    "    \n",
    "    # Set figure space\n",
    "    plt.style.use('seaborn')\n",
    "    n_row = int(np.ceil(len(nonnumeric_features)/n_col))\n",
    "    fig, axs = plt.subplots(n_row, n_col, figsize=(fig_width, fig_height), \n",
    "                            gridspec_kw={\"hspace\": hspace, \"wspace\": wspace})\n",
    "    plots = []\n",
    "    for ax in axs:\n",
    "        try:\n",
    "            for plot in ax:\n",
    "                plots.append(plot)\n",
    "        except:\n",
    "            plots.append(ax)\n",
    "\n",
    "    # Plot distributions and test for normality\n",
    "    for i, feature in enumerate(nonnumeric_features):\n",
    "        \n",
    "        # Set count df for plot\n",
    "        labels = list(set(X[feature]))\n",
    "        counts = [list(X[feature]).count(c) for c in labels]\n",
    "        plot_df = pd.DataFrame({'labels': [label if label is not np.nan else \"Missing\" for label in labels], \n",
    "                                'counts': counts})\n",
    "        \n",
    "        \n",
    "        # Plot\n",
    "        sns.barplot(data=plot_df, y=\"labels\", x=\"counts\", ax=plots[i], color=\"tab:blue\")\n",
    "        plots[i].set_title(feature, fontsize=12)\n",
    "        plots[i].set_ylabel('')\n",
    "        \n",
    "    plt.show()\n",
    "    "
   ]
  },
  {
   "cell_type": "markdown",
   "id": "0e349d6e",
   "metadata": {},
   "source": [
    "## Feature Visualization"
   ]
  },
  {
   "cell_type": "code",
   "execution_count": 14,
   "id": "136603ca",
   "metadata": {},
   "outputs": [],
   "source": [
    "def X_y_split(df, target, to_numpy: bool):\n",
    "    '''\n",
    "    Function to split df into features (X) and target (y)\n",
    "    to_numpy boolean flag can be used to convert X and y outputs to numpy arrays\n",
    "    '''\n",
    "    X = df.loc[:, df.columns != target]\n",
    "    y = df.loc[:, target]\n",
    "    if to_numpy:\n",
    "        return X.to_numpy(), y.to_numpy()\n",
    "    else:\n",
    "        return X, y\n",
    "    "
   ]
  },
  {
   "cell_type": "code",
   "execution_count": 15,
   "id": "5e7308ed",
   "metadata": {},
   "outputs": [],
   "source": [
    "X, y = X_y_split(df=data50_df, target='Pathologic?', to_numpy=False)"
   ]
  },
  {
   "cell_type": "markdown",
   "id": "bb1d31d9",
   "metadata": {},
   "source": [
    "### Numeric Features"
   ]
  },
  {
   "cell_type": "code",
   "execution_count": 11,
   "id": "80432697",
   "metadata": {},
   "outputs": [
    {
     "data": {
      "image/png": "[encoded data removed]",
      "text/plain": [
       "<Figure size 864x576 with 4 Axes>"
      ]
     },
     "metadata": {
      "needs_background": "light"
     },
     "output_type": "display_data"
    }
   ],
   "source": [
    "num_feature_dist_plot(df=X, n_col=2, fig_width=12, fig_height=8, bins=10, hspace=0.3, wspace=0.2)"
   ]
  },
  {
   "cell_type": "markdown",
   "id": "854bc1ca",
   "metadata": {},
   "source": [
    "### Categorical Features"
   ]
  },
  {
   "cell_type": "code",
   "execution_count": 12,
   "id": "3bd2c51b",
   "metadata": {},
   "outputs": [
    {
     "data": {
      "image/png": "[encoded data removed]",
      "text/plain": [
       "<Figure size 1440x360 with 2 Axes>"
      ]
     },
     "metadata": {},
     "output_type": "display_data"
    }
   ],
   "source": [
    "cat_feature_count_plot(df=X, n_col=2, fig_width=20, fig_height=5, hspace=0, wspace=0.5)"
   ]
  },
  {
   "cell_type": "markdown",
   "id": "c99a5de6",
   "metadata": {},
   "source": [
    "## Outcome Visualization"
   ]
  },
  {
   "cell_type": "code",
   "execution_count": 13,
   "id": "27e4e488",
   "metadata": {},
   "outputs": [
    {
     "data": {
      "text/plain": [
       "Text(0, 0.5, '')"
      ]
     },
     "execution_count": 13,
     "metadata": {},
     "output_type": "execute_result"
    },
    {
     "data": {
      "image/png": "[encoded data removed]",
      "text/plain": [
       "<Figure size 576x396 with 1 Axes>"
      ]
     },
     "metadata": {},
     "output_type": "display_data"
    }
   ],
   "source": [
    "# Encode outcome var\n",
    "yVis = y.copy()\n",
    "yVis = yVis.map({0: 'Not Pathologic', 1: 'Pathologic'})\n",
    "\n",
    "# Set count df for plot\n",
    "labels = list(set(yVis))\n",
    "counts = [list(yVis).count(c) for c in labels]\n",
    "plot_df = pd.DataFrame({'labels': [label if label is not np.nan else \"Missing\" for label in labels], \n",
    "                        'counts': counts})    \n",
    "        \n",
    "# Plot\n",
    "fig, ax = plt.subplots()\n",
    "sns.barplot(data=plot_df, y=\"labels\", x=\"counts\", color=\"tab:blue\")\n",
    "ax.set_title('Pathologic? Outcome', fontsize=12)\n",
    "ax.set_ylabel('')"
   ]
  },
  {
   "cell_type": "markdown",
   "id": "13da86db",
   "metadata": {},
   "source": [
    "# Data Pre-Processing"
   ]
  },
  {
   "cell_type": "code",
   "execution_count": 16,
   "id": "dbcf6156",
   "metadata": {},
   "outputs": [],
   "source": [
    "X, y = X_y_split(df=data50_df, target='Pathologic?', to_numpy=False)"
   ]
  },
  {
   "cell_type": "markdown",
   "id": "d8e18f6c",
   "metadata": {},
   "source": [
    "## Categorical Variable Encoding"
   ]
  },
  {
   "cell_type": "code",
   "execution_count": 39,
   "id": "ebfe9744",
   "metadata": {},
   "outputs": [],
   "source": [
    "def encodeCategories(X):\n",
    "    '''\n",
    "    Function to encode categorical features\n",
    "    Features with two categories will be encoded as binary\n",
    "    Features with more than two categories will be one-hot-encoded\n",
    "    '''\n",
    "    # Copy df \n",
    "    df = X.copy()\n",
    "    categorialColumnNames_list = df.select_dtypes(include=['object']).columns.values.tolist()\n",
    "    featureCategoryCount_dict = {feature: len(set(df[feature])) for feature in categorialColumnNames_list}\n",
    "\n",
    "    # Encode feature based on number of categories\n",
    "    for feature, categoryCount in featureCategoryCount_dict.items():\n",
    "\n",
    "        # Convert binary feature to binary 0, 1\n",
    "        if categoryCount == 2:\n",
    "\n",
    "            # Encode column\n",
    "            feat0, feat1 = tuple(set(df[feature]))\n",
    "            df[feature] = df[feature].map({feat0: 0, feat1: 1})\n",
    "\n",
    "            # Display which category is encoded 0 and 1\n",
    "            print(feature + ' encoded as binary')\n",
    "            print(f'   0: {feat0}')\n",
    "            print(f'   1: {feat1}\\n')\n",
    "\n",
    "        # One-hot-encode feature with more than 2 categories\n",
    "        elif categoryCount > 2:\n",
    "\n",
    "            # Code adapted from Antonio Perez, PhD\n",
    "            # Encode column\n",
    "            encoder = OneHotEncoder(handle_unknown='ignore', sparse=False)\n",
    "            encoder.fit(df[feature].to_numpy().reshape(-1, 1))\n",
    "            encodedData = encoder.transform(df[feature].to_numpy().reshape(-1, 1))\n",
    "\n",
    "            # Copy to data frame\n",
    "            for i in range(encodedData.shape[1]):\n",
    "                if type(encoder.categories_[0][i]) == str:\n",
    "                    df[f'{feature}_{encoder.categories_[0][i]}'] = encodedData[:, i]\n",
    "\n",
    "            # Drop original column\n",
    "            df.pop(feature)\n",
    "\n",
    "            # Display message\n",
    "            print(f'{feature} one-hot-encoded')\n",
    "\n",
    "        # Safe gaurd against features with only one category\n",
    "        else:\n",
    "            pass\n",
    "        \n",
    "    return df\n"
   ]
  },
  {
   "cell_type": "code",
   "execution_count": 41,
   "id": "59ac7345",
   "metadata": {},
   "outputs": [
    {
     "data": {
      "text/html": [
       "<div>\n",
       "<style scoped>\n",
       "    .dataframe tbody tr th:only-of-type {\n",
       "        vertical-align: middle;\n",
       "    }\n",
       "\n",
       "    .dataframe tbody tr th {\n",
       "        vertical-align: top;\n",
       "    }\n",
       "\n",
       "    .dataframe thead th {\n",
       "        text-align: right;\n",
       "    }\n",
       "</style>\n",
       "<table border=\"1\" class=\"dataframe\">\n",
       "  <thead>\n",
       "    <tr style=\"text-align: right;\">\n",
       "      <th></th>\n",
       "      <th>Age</th>\n",
       "      <th>Sex</th>\n",
       "      <th>Ejection fraction</th>\n",
       "      <th>Heart rate (bpm)</th>\n",
       "      <th>Systolic blood pressure</th>\n",
       "      <th>Racial group_American Indian or Alaska Native</th>\n",
       "      <th>Racial group_Asian</th>\n",
       "      <th>Racial group_Black or African American</th>\n",
       "      <th>Racial group_Hispanic or Latino</th>\n",
       "      <th>Racial group_Native Hawaiian or other Pacific Islander</th>\n",
       "      <th>Racial group_White</th>\n",
       "    </tr>\n",
       "  </thead>\n",
       "  <tbody>\n",
       "    <tr>\n",
       "      <th>0</th>\n",
       "      <td>59.053851</td>\n",
       "      <td>1</td>\n",
       "      <td>0.625929</td>\n",
       "      <td>71.025200</td>\n",
       "      <td>98.960236</td>\n",
       "      <td>0.0</td>\n",
       "      <td>1.0</td>\n",
       "      <td>0.0</td>\n",
       "      <td>0.0</td>\n",
       "      <td>0.0</td>\n",
       "      <td>0.0</td>\n",
       "    </tr>\n",
       "    <tr>\n",
       "      <th>1</th>\n",
       "      <td>56.291312</td>\n",
       "      <td>1</td>\n",
       "      <td>0.632001</td>\n",
       "      <td>51.666039</td>\n",
       "      <td>112.938934</td>\n",
       "      <td>0.0</td>\n",
       "      <td>0.0</td>\n",
       "      <td>0.0</td>\n",
       "      <td>0.0</td>\n",
       "      <td>0.0</td>\n",
       "      <td>1.0</td>\n",
       "    </tr>\n",
       "    <tr>\n",
       "      <th>2</th>\n",
       "      <td>66.216488</td>\n",
       "      <td>1</td>\n",
       "      <td>0.601147</td>\n",
       "      <td>105.635574</td>\n",
       "      <td>98.363388</td>\n",
       "      <td>0.0</td>\n",
       "      <td>0.0</td>\n",
       "      <td>0.0</td>\n",
       "      <td>0.0</td>\n",
       "      <td>0.0</td>\n",
       "      <td>1.0</td>\n",
       "    </tr>\n",
       "    <tr>\n",
       "      <th>3</th>\n",
       "      <td>45.684119</td>\n",
       "      <td>0</td>\n",
       "      <td>0.546039</td>\n",
       "      <td>96.767563</td>\n",
       "      <td>104.544754</td>\n",
       "      <td>0.0</td>\n",
       "      <td>0.0</td>\n",
       "      <td>1.0</td>\n",
       "      <td>0.0</td>\n",
       "      <td>0.0</td>\n",
       "      <td>0.0</td>\n",
       "    </tr>\n",
       "    <tr>\n",
       "      <th>4</th>\n",
       "      <td>69.492794</td>\n",
       "      <td>0</td>\n",
       "      <td>0.677071</td>\n",
       "      <td>86.660133</td>\n",
       "      <td>129.907806</td>\n",
       "      <td>0.0</td>\n",
       "      <td>0.0</td>\n",
       "      <td>0.0</td>\n",
       "      <td>0.0</td>\n",
       "      <td>0.0</td>\n",
       "      <td>1.0</td>\n",
       "    </tr>\n",
       "  </tbody>\n",
       "</table>\n",
       "</div>"
      ],
      "text/plain": [
       "         Age  Sex  Ejection fraction  Heart rate (bpm)  \\\n",
       "0  59.053851    1           0.625929         71.025200   \n",
       "1  56.291312    1           0.632001         51.666039   \n",
       "2  66.216488    1           0.601147        105.635574   \n",
       "3  45.684119    0           0.546039         96.767563   \n",
       "4  69.492794    0           0.677071         86.660133   \n",
       "\n",
       "   Systolic blood pressure  Racial group_American Indian or Alaska Native  \\\n",
       "0                98.960236                                            0.0   \n",
       "1               112.938934                                            0.0   \n",
       "2                98.363388                                            0.0   \n",
       "3               104.544754                                            0.0   \n",
       "4               129.907806                                            0.0   \n",
       "\n",
       "   Racial group_Asian  Racial group_Black or African American  \\\n",
       "0                 1.0                                     0.0   \n",
       "1                 0.0                                     0.0   \n",
       "2                 0.0                                     0.0   \n",
       "3                 0.0                                     1.0   \n",
       "4                 0.0                                     0.0   \n",
       "\n",
       "   Racial group_Hispanic or Latino  \\\n",
       "0                              0.0   \n",
       "1                              0.0   \n",
       "2                              0.0   \n",
       "3                              0.0   \n",
       "4                              0.0   \n",
       "\n",
       "   Racial group_Native Hawaiian or other Pacific Islander  Racial group_White  \n",
       "0                                                0.0                      0.0  \n",
       "1                                                0.0                      1.0  \n",
       "2                                                0.0                      1.0  \n",
       "3                                                0.0                      0.0  \n",
       "4                                                0.0                      1.0  "
      ]
     },
     "execution_count": 41,
     "metadata": {},
     "output_type": "execute_result"
    }
   ],
   "source": [
    "X = encodeCategories(X)\n",
    "X.head(5)"
   ]
  },
  {
   "cell_type": "code",
   "execution_count": null,
   "id": "233d663b",
   "metadata": {},
   "outputs": [],
   "source": []
  }
 ],
 "metadata": {
  "kernelspec": {
   "display_name": "Python 3",
   "language": "python",
   "name": "python3"
  },
  "language_info": {
   "codemirror_mode": {
    "name": "ipython",
    "version": 3
   },
   "file_extension": ".py",
   "mimetype": "text/x-python",
   "name": "python",
   "nbconvert_exporter": "python",
   "pygments_lexer": "ipython3",
   "version": "3.8.8"
  }
 },
 "nbformat": 4,
 "nbformat_minor": 5
}
